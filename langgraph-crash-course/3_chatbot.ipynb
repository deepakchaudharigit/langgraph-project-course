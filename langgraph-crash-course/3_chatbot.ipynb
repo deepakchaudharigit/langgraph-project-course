{
 "cells": [
  {
   "cell_type": "code",
   "id": "initial_id",
   "metadata": {
    "collapsed": true,
    "ExecuteTime": {
     "end_time": "2025-07-06T13:19:42.615017Z",
     "start_time": "2025-07-06T13:19:42.607967Z"
    }
   },
   "source": [
    "from typing import Annotated\n",
    "from dotenv import load_dotenv\n",
    "load_dotenv()\n",
    "\n",
    "from typing_extensions import TypedDict\n",
    "from langchain.chat_models import init_chat_model\n",
    "from langgraph.graph import StateGraph, START, END\n",
    "from langgraph.graph.message import add_messages"
   ],
   "outputs": [],
   "execution_count": 36
  },
  {
   "metadata": {
    "ExecuteTime": {
     "end_time": "2025-07-06T13:19:42.635767Z",
     "start_time": "2025-07-06T13:19:42.632282Z"
    }
   },
   "cell_type": "code",
   "source": "from langchain.chat_models import init_chat_model",
   "id": "3c96164fc8cf8136",
   "outputs": [],
   "execution_count": 37
  },
  {
   "metadata": {
    "ExecuteTime": {
     "end_time": "2025-07-06T13:19:42.670567Z",
     "start_time": "2025-07-06T13:19:42.659899Z"
    }
   },
   "cell_type": "code",
   "source": [
    "llm = init_chat_model(\"google_genai:gemini-2.0-flash\")\n",
    "\n",
    "class State(TypedDict):\n",
    "    messages: Annotated[list, add_messages]\n",
    "\n",
    "def chatbot(state: State) -> State:\n",
    "    return {\"messages\": [llm.invoke(state[\"messages\"])]}\n",
    "\n",
    "builder = StateGraph(State)\n",
    "builder.add_node(\"chatbot_node\", chatbot)\n",
    "\n",
    "builder.add_edge(START, \"chatbot_node\")\n",
    "builder.add_edge(\"chatbot_node\", END)\n",
    "\n",
    "graph = builder.compile()"
   ],
   "id": "efdc5e9a8ab40001",
   "outputs": [],
   "execution_count": 38
  },
  {
   "metadata": {
    "ExecuteTime": {
     "end_time": "2025-07-06T13:19:44.610342Z",
     "start_time": "2025-07-06T13:19:42.695196Z"
    }
   },
   "cell_type": "code",
   "source": [
    "message = {\"role\": \"user\", \"content\": \"Who walked on the moon for the first time? Print only the name\"}\n",
    "# message = {\"role\": \"user\", \"content\": \"What is the latest price of MSFT stock?\"}\n",
    "response = graph.invoke({\"messages\":[message]})\n",
    "\n",
    "response[\"messages\"]"
   ],
   "id": "3d157a437a401e2a",
   "outputs": [
    {
     "data": {
      "text/plain": [
       "[HumanMessage(content='Who walked on the moon for the first time? Print only the name', additional_kwargs={}, response_metadata={}, id='4cb9c6d6-7d75-4869-82f7-07f44398c1a7'),\n",
       " AIMessage(content='Neil Armstrong', additional_kwargs={}, response_metadata={'prompt_feedback': {'block_reason': 0, 'safety_ratings': []}, 'finish_reason': 'STOP', 'model_name': 'gemini-2.0-flash', 'safety_ratings': []}, id='run--21337791-00a1-4510-a2d1-bfcd33b196c7-0', usage_metadata={'input_tokens': 14, 'output_tokens': 3, 'total_tokens': 17, 'input_token_details': {'cache_read': 0}})]"
      ]
     },
     "execution_count": 39,
     "metadata": {},
     "output_type": "execute_result"
    }
   ],
   "execution_count": 39
  },
  {
   "metadata": {
    "ExecuteTime": {
     "end_time": "2025-07-06T13:20:10.484938Z",
     "start_time": "2025-07-06T13:19:44.632912Z"
    }
   },
   "cell_type": "code",
   "source": [
    "state = None\n",
    "\n",
    "while True:\n",
    "    try:\n",
    "        in_message = input(\"You: \")\n",
    "        if in_message.lower() in {\"quit\", \"exit\"}:\n",
    "            print(\"Bot: Goodbye!\")\n",
    "            break\n",
    "\n",
    "        if state is None:\n",
    "            state: State = {\n",
    "                \"messages\": [{\"role\": \"user\", \"content\": in_message}]\n",
    "            }\n",
    "        else:\n",
    "            state[\"messages\"].append({\"role\": \"user\", \"content\": in_message})\n",
    "\n",
    "        # Call your LangChain graph or runnable\n",
    "        state = graph.invoke(state)\n",
    "\n",
    "        # The last message might now be an AIMessage object\n",
    "        last_message = state[\"messages\"][-1]\n",
    "        print(\"Bot:\", last_message.content)\n",
    "\n",
    "        # Add the follow-up message\n",
    "        print(\"Bot: Let me know what else I can help you with.\\n\")\n",
    "\n",
    "    except KeyboardInterrupt:\n",
    "        print(\"\\nBot: Interrupted. Exiting.\")\n",
    "        break\n"
   ],
   "id": "d7e0e36652496d92",
   "outputs": [
    {
     "name": "stdout",
     "output_type": "stream",
     "text": [
      "Bot: There are several people named Deepak Chaudhari. To give you the most relevant information, I need a little more context. Could you tell me:\n",
      "\n",
      "*   **What field are you interested in?** (e.g., politics, business, sports, entertainment, academia)\n",
      "*   **Where are you located (or where is this Deepak Chaudhari likely to be located)?** (e.g., India, US, UK)\n",
      "*   **Do you have any other details?** (e.g., any specific organization they're associated with, a rough time period you're interested in)\n",
      "\n",
      "In the meantime, here are a few possibilities:\n",
      "\n",
      "*   **Deepak Chaudhari (Indian Politician):** There are multiple politicians and public figures named Deepak Chaudhari in India. They are often associated with local or regional politics.\n",
      "*   **Deepak Chaudhari (Academics/Professionals):** There are professionals with that name in various fields like engineering, technology, business, and finance. Some may have academic affiliations.\n",
      "\n",
      "Once you provide more information, I can give you a more specific and helpful answer.\n",
      "Bot: Let me know what else I can help you with.\n",
      "\n",
      "Bot: Goodbye!\n"
     ]
    }
   ],
   "execution_count": 40
  }
 ],
 "metadata": {
  "kernelspec": {
   "display_name": "Python 3",
   "language": "python",
   "name": "python3"
  },
  "language_info": {
   "codemirror_mode": {
    "name": "ipython",
    "version": 2
   },
   "file_extension": ".py",
   "mimetype": "text/x-python",
   "name": "python",
   "nbconvert_exporter": "python",
   "pygments_lexer": "ipython2",
   "version": "2.7.6"
  }
 },
 "nbformat": 4,
 "nbformat_minor": 5
}

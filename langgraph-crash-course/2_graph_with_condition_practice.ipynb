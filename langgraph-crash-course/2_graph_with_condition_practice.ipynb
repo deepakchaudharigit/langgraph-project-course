{
 "cells": [
  {
   "metadata": {
    "ExecuteTime": {
     "end_time": "2025-07-07T09:19:09.940364Z",
     "start_time": "2025-07-07T09:19:09.934787Z"
    }
   },
   "cell_type": "code",
   "source": [
    "from typing import TypedDict, Literal\n",
    "\n",
    "class PortfolioState(TypedDict):\n",
    "    amount_usd: float\n",
    "    total_usd: float\n",
    "    target_currency: Literal['INR', 'EUR']\n",
    "    total: float\n"
   ],
   "id": "2289b618b62b1715",
   "outputs": [],
   "execution_count": 47
  },
  {
   "metadata": {
    "ExecuteTime": {
     "end_time": "2025-07-07T09:19:09.964492Z",
     "start_time": "2025-07-07T09:19:09.959151Z"
    }
   },
   "cell_type": "code",
   "source": [
    "def calc_total(state: PortfolioState) -> PortfolioState:\n",
    "    state['total_usd'] = state['amount_usd']*1.08\n",
    "    return state\n",
    "def convert_eur(state: PortfolioState) -> PortfolioState:\n",
    "    state['total'] = state['total_usd']*90\n",
    "    return state\n",
    "def convert_inr(state: PortfolioState) -> PortfolioState:\n",
    "    state['total'] = state['total_usd']*85\n",
    "    return state\n",
    "def choose_conversion(state: PortfolioState) -> PortfolioState:\n",
    "    return state['target_currency']"
   ],
   "id": "b41d9de9aa4e059",
   "outputs": [],
   "execution_count": 48
  },
  {
   "metadata": {
    "ExecuteTime": {
     "end_time": "2025-07-07T09:19:09.985723Z",
     "start_time": "2025-07-07T09:19:09.977777Z"
    }
   },
   "cell_type": "code",
   "source": [
    "from langgraph.graph import StateGraph, START, END\n",
    "builder = StateGraph(PortfolioState)\n",
    "\n",
    "builder.add_node('calc_total_node', calc_total)\n",
    "builder.add_node('convert_inr_amount_node', convert_inr)\n",
    "builder.add_node('convert_eur_amount_node', convert_eur)\n",
    "\n",
    "builder.add_edge(START, 'calc_total_node')\n",
    "builder.add_conditional_edges(\n",
    "    'calc_total_node',\n",
    "    choose_conversion,\n",
    "    {\n",
    "        'INR': 'convert_inr_amount_node', 'EUR': 'convert_eur_amount_node'\n",
    "    }\n",
    ")\n",
    "builder.add_edge(['convert_inr_amount_node', 'convert_eur_amount_node'], END)\n",
    "graph = builder.compile()"
   ],
   "id": "b85bab2391402966",
   "outputs": [],
   "execution_count": 49
  },
  {
   "metadata": {
    "ExecuteTime": {
     "end_time": "2025-07-07T09:19:10.660088Z",
     "start_time": "2025-07-07T09:19:10.000401Z"
    }
   },
   "cell_type": "code",
   "source": [
    "from IPython.display import Image, display\n",
    "display(Image(graph.get_graph().draw_mermaid_png()))"
   ],
   "id": "5e0d91109fc36b0b",
   "outputs": [
    {
     "data": {
      "image/png": "[encoded data removed]",
      "text/plain": [
       "<IPython.core.display.Image object>"
      ]
     },
     "metadata": {},
     "output_type": "display_data"
    }
   ],
   "execution_count": 50
  },
  {
   "metadata": {
    "ExecuteTime": {
     "end_time": "2025-07-07T09:19:10.687790Z",
     "start_time": "2025-07-07T09:19:10.681127Z"
    }
   },
   "cell_type": "code",
   "source": "graph.invoke({'amount_usd': 100, 'target_currency': 'EUR'})",
   "id": "8f900b0c9871add0",
   "outputs": [
    {
     "data": {
      "text/plain": [
       "{'amount_usd': 100,\n",
       " 'total_usd': 108.0,\n",
       " 'target_currency': 'EUR',\n",
       " 'total': 9720.0}"
      ]
     },
     "execution_count": 51,
     "metadata": {},
     "output_type": "execute_result"
    }
   ],
   "execution_count": 51
  },
  {
   "metadata": {
    "ExecuteTime": {
     "end_time": "2025-07-07T09:19:10.768958Z",
     "start_time": "2025-07-07T09:19:10.766430Z"
    }
   },
   "cell_type": "code",
   "source": "",
   "id": "c7b68b8f28765628",
   "outputs": [],
   "execution_count": null
  }
 ],
 "metadata": {
  "kernelspec": {
   "display_name": "Python 3",
   "language": "python",
   "name": "python3"
  },
  "language_info": {
   "codemirror_mode": {
    "name": "ipython",
    "version": 2
   },
   "file_extension": ".py",
   "mimetype": "text/x-python",
   "name": "python",
   "nbconvert_exporter": "python",
   "pygments_lexer": "ipython2",
   "version": "2.7.6"
  }
 },
 "nbformat": 4,
 "nbformat_minor": 5
}

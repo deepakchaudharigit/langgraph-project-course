{
 "cells": [
  {
   "metadata": {
    "ExecuteTime": {
     "end_time": "2025-07-07T07:21:07.967215Z",
     "start_time": "2025-07-07T07:21:07.955953Z"
    }
   },
   "cell_type": "code",
   "source": [
    "from typing import TypedDict\n",
    "\n",
    "class PortfolioState(TypedDict):\n",
    "    total_amount_usd: float\n",
    "    total_inr: float\n",
    "    total_usd: float"
   ],
   "id": "e5d2407ffa45ccac",
   "outputs": [],
   "execution_count": 57
  },
  {
   "metadata": {
    "ExecuteTime": {
     "end_time": "2025-07-07T07:21:07.988925Z",
     "start_time": "2025-07-07T07:21:07.984927Z"
    }
   },
   "cell_type": "code",
   "source": [
    "def calc_total_amount(state: PortfolioState) -> PortfolioState:\n",
    "    state['total_usd'] = float(state['total_amount_usd']*1.08)\n",
    "    return state"
   ],
   "id": "7779b5ed734eb59e",
   "outputs": [],
   "execution_count": 58
  },
  {
   "metadata": {
    "ExecuteTime": {
     "end_time": "2025-07-07T07:21:08.019976Z",
     "start_time": "2025-07-07T07:21:08.014816Z"
    }
   },
   "cell_type": "code",
   "source": [
    "def convert_total_inr(state: PortfolioState) -> PortfolioState:\n",
    "    state['total_inr'] = float(state['total_usd']*85)\n",
    "    return state"
   ],
   "id": "e35d49bcbc10a71c",
   "outputs": [],
   "execution_count": 59
  },
  {
   "metadata": {
    "ExecuteTime": {
     "end_time": "2025-07-07T07:21:08.073953Z",
     "start_time": "2025-07-07T07:21:08.048596Z"
    }
   },
   "cell_type": "code",
   "source": [
    "from langgraph.graph import StateGraph, START, END\n",
    "builder = StateGraph(PortfolioState)\n",
    "\n",
    "builder.add_node('calc_total_node', calc_total_amount)\n",
    "builder.add_node('convert_total_inr_node', convert_total_inr)\n",
    "\n",
    "builder.add_edge(START, 'calc_total_node')\n",
    "builder.add_edge('calc_total_node', 'convert_total_inr_node')\n",
    "builder.add_edge('convert_total_inr_node', END)\n",
    "\n",
    "graph = builder.compile()"
   ],
   "id": "d1088370e039e519",
   "outputs": [],
   "execution_count": 60
  },
  {
   "metadata": {
    "ExecuteTime": {
     "end_time": "2025-07-07T07:21:09.122356Z",
     "start_time": "2025-07-07T07:21:08.088070Z"
    }
   },
   "cell_type": "code",
   "source": [
    "from IPython.display import Image, display\n",
    "\n",
    "display(Image(graph.get_graph().draw_mermaid_png()))"
   ],
   "id": "fe923cbe485f6a65",
   "outputs": [
    {
     "data": {
      "image/png": "[encoded data removed]",
      "text/plain": [
       "<IPython.core.display.Image object>"
      ]
     },
     "metadata": {},
     "output_type": "display_data"
    }
   ],
   "execution_count": 61
  },
  {
   "metadata": {
    "ExecuteTime": {
     "end_time": "2025-07-07T07:23:24.972540Z",
     "start_time": "2025-07-07T07:23:24.963460Z"
    }
   },
   "cell_type": "code",
   "source": "graph.invoke({\"total_amount_usd\": 100})",
   "id": "7cfc2a2c199a1620",
   "outputs": [
    {
     "data": {
      "text/plain": [
       "{'total_amount_usd': 100, 'total_inr': 9180.0, 'total_usd': 108.0}"
      ]
     },
     "execution_count": 63,
     "metadata": {},
     "output_type": "execute_result"
    }
   ],
   "execution_count": 63
  },
  {
   "metadata": {},
   "cell_type": "code",
   "outputs": [],
   "execution_count": null,
   "source": "",
   "id": "ad4aec86bb321be3"
  }
 ],
 "metadata": {
  "kernelspec": {
   "display_name": "Python 3",
   "language": "python",
   "name": "python3"
  },
  "language_info": {
   "codemirror_mode": {
    "name": "ipython",
    "version": 2
   },
   "file_extension": ".py",
   "mimetype": "text/x-python",
   "name": "python",
   "nbconvert_exporter": "python",
   "pygments_lexer": "ipython2",
   "version": "2.7.6"
  }
 },
 "nbformat": 4,
 "nbformat_minor": 5
}

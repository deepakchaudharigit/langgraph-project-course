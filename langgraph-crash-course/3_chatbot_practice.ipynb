{
 "cells": [
  {
   "metadata": {
    "ExecuteTime": {
     "end_time": "2025-07-07T10:19:53.747356Z",
     "start_time": "2025-07-07T10:19:53.741296Z"
    }
   },
   "cell_type": "code",
   "source": [
    "from typing import Annotated\n",
    "from dotenv import load_dotenv\n",
    "load_dotenv()\n",
    "\n",
    "from typing_extensions import TypedDict\n",
    "from langchain.chat_models import init_chat_model\n",
    "from langgraph.graph import StateGraph, START, END\n",
    "from langgraph.graph.message import add_messages\n"
   ],
   "id": "b092a3ca7d0facb",
   "outputs": [],
   "execution_count": 31
  },
  {
   "metadata": {
    "ExecuteTime": {
     "end_time": "2025-07-07T10:19:53.774457Z",
     "start_time": "2025-07-07T10:19:53.762998Z"
    }
   },
   "cell_type": "code",
   "source": [
    "llm = init_chat_model('google_genai:gemini-2.0-flash')\n",
    "\n",
    "class State(TypedDict):\n",
    "    messages: Annotated[list, add_messages]\n",
    "\n",
    "def chatbot(state: State) -> State:\n",
    "    return { 'messages': [llm.invoke(state['messages'])]}\n",
    "\n",
    "builder = StateGraph(State)\n",
    "builder.add_node('chatbot_node', chatbot)\n",
    "builder.add_edge(START, 'chatbot_node')\n",
    "builder.add_edge('chatbot_node', END)\n",
    "\n",
    "graph = builder.compile()\n"
   ],
   "id": "ce973d7618d6f204",
   "outputs": [],
   "execution_count": 32
  },
  {
   "metadata": {
    "ExecuteTime": {
     "end_time": "2025-07-07T10:19:57.775813Z",
     "start_time": "2025-07-07T10:19:53.791572Z"
    }
   },
   "cell_type": "code",
   "source": [
    "message = { \"role\": \"user\", 'content': \"who is aamir khan\"}\n",
    "response = graph.invoke({'messages': [message]})\n",
    "response['messages']"
   ],
   "id": "701ea52eda79c767",
   "outputs": [
    {
     "data": {
      "text/plain": [
       "[HumanMessage(content='who is aamir khan', additional_kwargs={}, response_metadata={}, id='9438c76b-b45b-4a17-98fe-cd7d13e8f138'),\n",
       " AIMessage(content='Aamir Khan is a highly acclaimed and influential Indian actor, filmmaker, and television personality. He\\'s considered one of the biggest and most successful stars in Hindi cinema (Bollywood). Here\\'s a breakdown of why he\\'s so well-known:\\n\\n*   **Acting:** He\\'s known for his versatile acting skills and his dedication to choosing roles that are challenging and meaningful. He often immerses himself in his characters, undergoing significant physical transformations and spending considerable time researching and understanding the roles he plays.\\n\\n*   **Film Production:** Aamir Khan Productions, his production company, has been responsible for producing several critically acclaimed and commercially successful films that often tackle social issues and push boundaries in Indian cinema.\\n\\n*   **Social Activism:** Aamir Khan is known for using his platform to raise awareness about social issues through his television show \"Satyamev Jayate.\" The show addressed topics like female foeticide, domestic violence, and water conservation, sparking national conversations and leading to policy changes.\\n\\n*   **Commercial Success:** His films are often blockbusters, both in India and internationally. He\\'s known for his meticulous approach to filmmaking and his ability to connect with audiences on a large scale.\\n\\n*   **Notable Films:** Some of his most famous films include:\\n    *   *Lagaan* (2001)\\n    *   *Rang De Basanti* (2006)\\n    *   *Taare Zameen Par* (2007)\\n    *   *3 Idiots* (2009)\\n    *   *PK* (2014)\\n    *   *Dangal* (2016)\\n\\nIn short, Aamir Khan is a prominent figure in Indian cinema who is respected for his acting talent, his commitment to quality filmmaking, and his efforts to use his influence to address social issues.', additional_kwargs={}, response_metadata={'prompt_feedback': {'block_reason': 0, 'safety_ratings': []}, 'finish_reason': 'STOP', 'model_name': 'gemini-2.0-flash', 'safety_ratings': []}, id='run--69b8aaa7-f2c3-40ae-b987-f00d86063b2d-0', usage_metadata={'input_tokens': 5, 'output_tokens': 391, 'total_tokens': 396, 'input_token_details': {'cache_read': 0}})]"
      ]
     },
     "execution_count": 33,
     "metadata": {},
     "output_type": "execute_result"
    }
   ],
   "execution_count": 33
  },
  {
   "metadata": {
    "ExecuteTime": {
     "end_time": "2025-07-07T10:20:20.783848Z",
     "start_time": "2025-07-07T10:19:57.795957Z"
    }
   },
   "cell_type": "code",
   "source": [
    "state = None\n",
    "while True:\n",
    "    try:\n",
    "        in_message = input('You: ')\n",
    "        if in_message.lower() in {'quit', 'exit', 'stop'} :\n",
    "            print('Goodbye!')\n",
    "            break\n",
    "        if state is None:\n",
    "            state: State = {\n",
    "                'messages': { 'role': 'user', 'content': in_message },\n",
    "            }\n",
    "        else:\n",
    "            state['messages'].append({'role': 'user', 'content': in_message})\n",
    "        state = graph.invoke(state)\n",
    "        last_message = state['messages'][-1]\n",
    "        print('Bot: ', last_message.content)\n",
    "    except KeyboardInterrupt:\n",
    "        print('Bot: Interrupted')\n",
    "        break\n"
   ],
   "id": "b7f8071b5acf149e",
   "outputs": [
    {
     "name": "stdout",
     "output_type": "stream",
     "text": [
      "Bot:  Amit Chaudhary is a **Research Scientist** at **Questt.ai**.\n",
      "\n",
      "Based on his LinkedIn profile and other online presence, here's what's known about him:\n",
      "\n",
      "*   **Role:** Research Scientist\n",
      "*   **Company:** Questt.ai\n",
      "*   **Education:** IIT Kanpur\n",
      "*   **Skills/Expertise:** He appears to be involved in research and development related to AI and machine learning, likely within the context of Questt.ai's educational platform.\n",
      "\n",
      "To get more specific information about his work, you might want to:\n",
      "\n",
      "*   Look for his publications or presentations related to Questt.ai's technology.\n",
      "*   Check Questt.ai's website or blog for mentions of his contributions.\n",
      "*   Review his LinkedIn profile for more details on his projects and responsibilities.\n",
      "Goodbye!\n"
     ]
    }
   ],
   "execution_count": 34
  }
 ],
 "metadata": {
  "kernelspec": {
   "display_name": "Python 3",
   "language": "python",
   "name": "python3"
  },
  "language_info": {
   "codemirror_mode": {
    "name": "ipython",
    "version": 2
   },
   "file_extension": ".py",
   "mimetype": "text/x-python",
   "name": "python",
   "nbconvert_exporter": "python",
   "pygments_lexer": "ipython2",
   "version": "2.7.6"
  }
 },
 "nbformat": 4,
 "nbformat_minor": 5
}
